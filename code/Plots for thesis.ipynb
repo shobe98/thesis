{
 "cells": [
  {
   "cell_type": "code",
   "execution_count": 1,
   "metadata": {},
   "outputs": [
    {
     "name": "stdout",
     "output_type": "stream",
     "text": [
      "Reading bamfile...\n",
      "Done reading bamfile ../AitkenLab/rnaseq_all.bam\n",
      "Reading bedfile...\n",
      "Done reading bedfile ../indexes/yeast-all.bed\n",
      "Processed TIFs in chromosome 1...\n",
      "Processed TIFs in chromosome 2...\n",
      "Processed TIFs in chromosome 3...\n",
      "Processed TIFs in chromosome 4...\n",
      "Processed TIFs in chromosome 5...\n",
      "Processed TIFs in chromosome 6...\n",
      "Processed TIFs in chromosome 7...\n",
      "Processed TIFs in chromosome 8...\n",
      "Processed TIFs in chromosome 9...\n",
      "Processed TIFs in chromosome 10...\n",
      "Processed TIFs in chromosome 11...\n",
      "Processed TIFs in chromosome 12...\n",
      "Processed TIFs in chromosome 13...\n",
      "Processed TIFs in chromosome 14...\n",
      "Processed TIFs in chromosome 15...\n",
      "Processed TIFs in chromosome 16...\n",
      "Done reading TIF file... returning a dictionary\n",
      "Reading bedfile...\n",
      "Done reading bedfile ../indexes/yeast-all.bed\n",
      "Reading bamfile...\n",
      "Done reading bamfile ../AitkenLab/rnaseq_all.bam\n",
      "Reading bedfile...\n",
      "Done reading bedfile ../indexes/yeast-all.bed\n"
     ]
    }
   ],
   "source": [
    "import matplotlib.pyplot as plt\n",
    "from simulate_reads import random_reads_in_interval, generate_isoform_aware_density, Isoform"
   ]
  },
  {
   "cell_type": "code",
   "execution_count": 2,
   "metadata": {},
   "outputs": [],
   "source": [
    "import matplotlib"
   ]
  },
  {
   "cell_type": "code",
   "execution_count": 3,
   "metadata": {},
   "outputs": [],
   "source": [
    "from matplotlib.patches import Rectangle\n",
    "import numpy as np"
   ]
  },
  {
   "cell_type": "code",
   "execution_count": 4,
   "metadata": {},
   "outputs": [],
   "source": [
    "from helper import __generate_read_density, make_metagene_plot"
   ]
  },
  {
   "cell_type": "code",
   "execution_count": 5,
   "metadata": {},
   "outputs": [],
   "source": [
    "np.random.seed(527)"
   ]
  },
  {
   "cell_type": "code",
   "execution_count": 6,
   "metadata": {},
   "outputs": [
    {
     "data": {
      "text/plain": [
       "[<simulate_reads.FakeRead at 0x7ffb988bb860>,\n",
       " <simulate_reads.FakeRead at 0x7ffb988bb898>,\n",
       " <simulate_reads.FakeRead at 0x7ffb988bb8d0>,\n",
       " <simulate_reads.FakeRead at 0x7ffb988bb908>,\n",
       " <simulate_reads.FakeRead at 0x7ffb988bb940>,\n",
       " <simulate_reads.FakeRead at 0x7ffb988bb978>,\n",
       " <simulate_reads.FakeRead at 0x7ffb988bb9b0>,\n",
       " <simulate_reads.FakeRead at 0x7ffb988bb9e8>,\n",
       " <simulate_reads.FakeRead at 0x7ffb988bba20>,\n",
       " <simulate_reads.FakeRead at 0x7ffb988bba58>,\n",
       " <simulate_reads.FakeRead at 0x7ffb988bba90>,\n",
       " <simulate_reads.FakeRead at 0x7ffb988bbac8>,\n",
       " <simulate_reads.FakeRead at 0x7ffb988bbb00>,\n",
       " <simulate_reads.FakeRead at 0x7ffb988bbb38>,\n",
       " <simulate_reads.FakeRead at 0x7ffb988bbb70>,\n",
       " <simulate_reads.FakeRead at 0x7ffb988bb828>,\n",
       " <simulate_reads.FakeRead at 0x7ffb988bbba8>]"
      ]
     },
     "execution_count": 6,
     "metadata": {},
     "output_type": "execute_result"
    }
   ],
   "source": [
    "reads = random_reads_in_interval(100, 200, 15, 30)\n",
    "reads\n"
   ]
  },
  {
   "cell_type": "code",
   "execution_count": 7,
   "metadata": {},
   "outputs": [
    {
     "name": "stdout",
     "output_type": "stream",
     "text": [
      "len(reads)=17\n",
      "chrom_size=200\n",
      "Done generating read density...\n",
      "Sum of density_n: 0\n",
      "Sum of density_p: 467\n"
     ]
    }
   ],
   "source": [
    "density,_ = __generate_read_density(reads)\n",
    "density[100] = density[200] = 0\n",
    "len(density)\n",
    "density = density + [0] * 8"
   ]
  },
  {
   "cell_type": "code",
   "execution_count": 8,
   "metadata": {},
   "outputs": [],
   "source": [
    "save_to_pgf = True\n"
   ]
  },
  {
   "cell_type": "code",
   "execution_count": 9,
   "metadata": {},
   "outputs": [],
   "source": [
    "if save_to_pgf: \n",
    "    matplotlib.use(\"pgf\")\n",
    "    matplotlib.rcParams.update({\n",
    "        \"pgf.texsystem\": \"pdflatex\",\n",
    "        'font.family': 'serif',\n",
    "        'text.usetex': True,\n",
    "        'pgf.rcfonts': False,\n",
    "    })"
   ]
  },
  {
   "cell_type": "code",
   "execution_count": 10,
   "metadata": {},
   "outputs": [],
   "source": [
    "fig, ax = plt.subplots(2)\n",
    "\n",
    "\n",
    "ax[0].set_title(\"Building read density from mRNA fragments\")\n",
    "\n",
    "ax[0].axis(\"off\")\n",
    "ax[0].set_xlim([90, 210])\n",
    "ax[0].set_ylim([-10,40])\n",
    "ax[0].plot()\n",
    "for i in range(0, len(reads) - 2):\n",
    "    ax[0].add_patch(Rectangle((reads[i].reference_start, 5 + 2*i + 1), reads[i].reference_end - reads[i].reference_start + 1, 1))\n",
    "\n",
    "ax[0].axhline(y=1, color='y', linestyle='-')\n",
    "\n",
    "gene_x = np.arange(100, 200, 0.1)\n",
    "gene_y = 1 + np.sin(gene_x * 3)\n",
    "ax[0].plot(gene_x, gene_y, color='m')\n",
    "ax[0].text(140, -10, \"Annotated Genome\")\n",
    "\n",
    "ax[0].text(90, 20, \"mRNA Fragments\")\n",
    "\n",
    "ax[1].spines['top'].set_visible(False)\n",
    "ax[1].spines['right'].set_visible(False)\n",
    "\n",
    "ax[1].set_xlim([90, 210])\n",
    "ax[1].set_xlabel(\"Position in genome (bp)\")\n",
    "ax[1].set_ylabel(\"Read density\")\n",
    "ax[1].plot(density)\n",
    "\n",
    "\n",
    "#plt.savefig(\"read_density.pgf\")\n",
    "plt.show()\n",
    "\n",
    "plt.close()"
   ]
  },
  {
   "cell_type": "code",
   "execution_count": 11,
   "metadata": {},
   "outputs": [
    {
     "name": "stdout",
     "output_type": "stream",
     "text": [
      "len(reads)=82\n",
      "chrom_size=2000\n",
      "Done generating read density...\n",
      "Sum of density_n: 0\n",
      "Sum of density_p: 3602\n",
      "2002\n",
      "0\n",
      "1001\n",
      "1000\n",
      "1001\n",
      "len(reads)=122\n",
      "chrom_size=2000\n",
      "Done generating read density...\n",
      "Sum of density_n: 0\n",
      "Sum of density_p: 5402\n",
      "2002\n",
      "200\n",
      "1001\n",
      "1200\n",
      "801\n"
     ]
    }
   ],
   "source": [
    "isoforms2 = [Isoform(1000, 2000), Isoform(1200, 2000)]\n",
    "prob2 = [0.4, 0.6]\n",
    "\n",
    "density = generate_isoform_aware_density(isoforms2, prob2, 200, read_length=44, plot=False)\n"
   ]
  },
  {
   "cell_type": "code",
   "execution_count": 12,
   "metadata": {
    "scrolled": true
   },
   "outputs": [],
   "source": [
    "moving_avg = np.convolve(density, np.ones(50)/50, mode='valid')\n",
    "\n",
    "plt.plot(range(1000,2001), density, label=\"Read density\")\n",
    "plt.plot(range(1000, 2002-50), moving_avg, label=\"Averaged read density (50bp window)\")\n",
    "\n",
    "plt.ylim(0,20)\n",
    "plt.yticks(range(0,20,2))\n",
    "plt.ylabel(\"Reads aligned\")\n",
    "plt.xlabel(\"Position in genome (nt)\")\n",
    "plt.title(\"Read density\")\n",
    "\n",
    "gene_x = np.arange(1000, 2000, 0.1)\n",
    "gene_y = 0.3 + np.sin(gene_x / 3) / 10\n",
    "plt.plot(gene_x, gene_y, color='m', label=\"Isoform 1\")\n",
    "\n",
    "\n",
    "\n",
    "gene_x = np.arange(1200, 2000, 0.1)\n",
    "gene_y = 1 + np.sin(gene_x / 3) / 10\n",
    "plt.plot(gene_x, gene_y, color='c', label=\"Isoform 2\")\n",
    "plt.legend(title=\"Legend\", bbox_to_anchor=(0.5,-0.7), loc=\"lower center\")\n",
    "\n",
    "if save_to_pgf:\n",
    "    plt.savefig(\"two-isoform.pgf\", bbox_inches='tight')\n",
    "else:\n",
    "    plt.show()\n",
    "    \n",
    "plt.close()"
   ]
  },
  {
   "cell_type": "code",
   "execution_count": 13,
   "metadata": {},
   "outputs": [
    {
     "name": "stdout",
     "output_type": "stream",
     "text": [
      "len(reads)=212\n",
      "chrom_size=3500\n",
      "Done generating read density...\n",
      "Sum of density_n: 0\n",
      "Sum of density_p: 9452\n",
      "3502\n",
      "0\n",
      "1001\n",
      "2500\n",
      "1001\n",
      "len(reads)=92\n",
      "chrom_size=3500\n",
      "Done generating read density...\n",
      "Sum of density_n: 0\n",
      "Sum of density_p: 4052\n",
      "3502\n",
      "300\n",
      "1001\n",
      "2800\n",
      "701\n",
      "len(reads)=82\n",
      "chrom_size=2000\n",
      "Done generating read density...\n",
      "Sum of density_n: 0\n",
      "Sum of density_p: 3602\n",
      "2002\n",
      "0\n",
      "1001\n",
      "1000\n",
      "1001\n",
      "len(reads)=122\n",
      "chrom_size=2000\n",
      "Done generating read density...\n",
      "Sum of density_n: 0\n",
      "Sum of density_p: 5402\n",
      "2002\n",
      "200\n",
      "1001\n",
      "1200\n",
      "801\n",
      "len(reads)=362\n",
      "chrom_size=5000\n",
      "Done generating read density...\n",
      "Sum of density_n: 0\n",
      "Sum of density_p: 16202\n",
      "5002\n",
      "0\n",
      "1001\n",
      "4000\n",
      "1001\n",
      "len(reads)=42\n",
      "chrom_size=5000\n",
      "Done generating read density...\n",
      "Sum of density_n: 0\n",
      "Sum of density_p: 1802\n",
      "5002\n",
      "350\n",
      "1001\n",
      "4350\n",
      "651\n"
     ]
    }
   ],
   "source": [
    "isoforms = [Isoform(2500, 3500), Isoform(2800, 3500)]\n",
    "prob = [0.7, 0.3]\n",
    "\n",
    "\n",
    "isoforms2 = [Isoform(1000, 2000), Isoform(1200, 2000)]\n",
    "prob2 = [0.4, 0.6]\n",
    "\n",
    "isoforms3 = [Isoform(4000, 5000), Isoform(4350, 5000)]\n",
    "prob3 = [0.9, 0.1]\n",
    "\n",
    "\n",
    "reads1 = generate_isoform_aware_density(isoforms, prob, 300, read_length=44, plot=False)\n",
    "reads2 = generate_isoform_aware_density(isoforms2, prob2, 200, read_length=44, plot=False)\n",
    "reads3 = generate_isoform_aware_density(isoforms3, prob3, 400, read_length=44, plot=False)\n",
    "\n",
    "\n"
   ]
  },
  {
   "cell_type": "code",
   "execution_count": 14,
   "metadata": {},
   "outputs": [
    {
     "name": "stdout",
     "output_type": "stream",
     "text": [
      "5001\n",
      "Generating metagene plot... Number of overlapping sites is: 3\n",
      "<class 'tuple'>\n",
      "type of splits[0] is <class 'tuple'>\n",
      "(1200, '+')\n"
     ]
    }
   ],
   "source": [
    "density = [0]*1000 + reads2 + [0] * 499 + reads1 + [0] * 499 + reads3\n",
    "print(len(density))\n",
    "meta = make_metagene_plot((density,[]), [(1200, \"+\"), (2800, \"+\"), (4300,\"+\")], \"\", 50, 50, plot=False)"
   ]
  },
  {
   "cell_type": "code",
   "execution_count": 19,
   "metadata": {},
   "outputs": [],
   "source": [
    "fig, ax = plt.subplots(3, constrained_layout=True)\n",
    "\n",
    "ax[1].plot(range(2500,3501), reads1)\n",
    "ax[0].plot(range(1000,2001), reads2)\n",
    "ax[2].plot(range(4000,5001), reads3)\n",
    "\n",
    "\n",
    "ax[0].axvspan(1150, 1250, alpha=0.5, color='red')\n",
    "ax[0].axvline(1200, color='k', alpha=0.5)\n",
    "ax[1].axvspan(2750, 2850, alpha=0.5, color='red')\n",
    "ax[1].axvline(2800, color='k', alpha=0.5)\n",
    "ax[2].axvspan(4300, 4400, alpha=0.5, color='red')\n",
    "ax[2].axvline(4350, color='k', alpha=0.5)\n",
    "\n",
    "#ax[0].set_xlabel(\"Genomic Position\")\n",
    "#ax[1].set_xlabel(\"Genomic Position\")\n",
    "ax[2].set_xlabel(\"Genomic Position\")\n",
    "\n",
    "ax[0].set_title(\"Gene 1 Density\")\n",
    "\n",
    "ax[1].set_title(\"Gene 2 Density\")\n",
    "\n",
    "ax[2].set_title(\"Gene 3 Density\")\n",
    "\n",
    "\n",
    "fig.text(-0.04, 0.5, 'Read Density', va='center', rotation='vertical')\n",
    "\n",
    "#ax[0].set_ylabel(\"Density\",rotation=45)\n",
    "#ax[1].set_ylabel(\"Density\",rotation=45)\n",
    "#ax[2].set_ylabel(\"Density\",rotation=45)\n",
    "\n",
    "\n",
    "\n",
    "\n",
    "#fig.tight_layout()\n",
    "if not save_to_pgf:\n",
    "    plt.show()\n",
    "else:\n",
    "    plt.savefig(\"isoform_junction.pgf\", bbox_inches='tight')\n",
    "    \n",
    "plt.close()"
   ]
  }
 ],
 "metadata": {
  "kernelspec": {
   "display_name": "Python 3",
   "language": "python",
   "name": "python3"
  },
  "language_info": {
   "codemirror_mode": {
    "name": "ipython",
    "version": 3
   },
   "file_extension": ".py",
   "mimetype": "text/x-python",
   "name": "python",
   "nbconvert_exporter": "python",
   "pygments_lexer": "ipython3",
   "version": "3.6.9"
  }
 },
 "nbformat": 4,
 "nbformat_minor": 4
}
